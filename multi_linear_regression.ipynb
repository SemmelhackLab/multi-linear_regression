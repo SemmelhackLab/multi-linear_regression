{
 "cells": [
  {
   "cell_type": "code",
   "execution_count": 81,
   "metadata": {},
   "outputs": [],
   "source": [
    "import numpy as np\n",
    "import math\n",
    "\n",
    "\n",
    "def add_regressors(length, tpoints, tau):\n",
    "    # combine multiple single regressor\n",
    "    # units in frame number\n",
    "    # length = the length of the whole trial\n",
    "    # tpoints= an ndarray containing the frames to build the step function\n",
    "    # tau = exponential decay constant \n",
    "    \n",
    "    reg = []\n",
    "    for count, tp in enumerate(tpoints):\n",
    "        reg.append(gen_regressor(length, tp, tau))\n",
    "    \n",
    "    regressors = np.sum(reg, axis=0)\n",
    "    norm = float(max(regressors))\n",
    "    norm_regressors = [r/ norm for r in regressors]\n",
    "    \n",
    "    return norm_regressors\n",
    "\n",
    "def gen_regressor(length, tpoints, tau):\n",
    "    # generate a single regressor\n",
    "    # units in frame number\n",
    "    # length = the length of the whole trial\n",
    "    # tpoints = an array containing the frames to build the step function\n",
    "    # tau = exponential decay constant \n",
    "    \n",
    "    stim = np.zeros(length)\n",
    "    stim[tpoints] = 1\n",
    "    exp = []\n",
    "\n",
    "    kernel = np.ones(tau)\n",
    "\n",
    "    # Generate exponential function\n",
    "    for counter, val in enumerate(kernel):\n",
    "        exp.append(((1 / float(tau)) * math.exp((-counter / float(tau))))*val)\n",
    "\n",
    "    # Convolve the step function with exponential function\n",
    "    onset = np.convolve(stim,exp)\n",
    "    onset2 = [float(i) for i in onset]\n",
    "    onset2 = onset2[0:-tau+1]\n",
    "\n",
    "    return onset2\n",
    "\n",
    "    "
   ]
  },
  {
   "cell_type": "code",
   "execution_count": 89,
   "metadata": {},
   "outputs": [],
   "source": [
    "from matplotlib import pyplot as plt\n",
    "\n",
    "length = 154\n",
    "duration1 = [range(39,48), range(60,70)]\n",
    "onset1 = [range(39,48), range(60,70)]\n",
    "eye1 = [range(45,46), range(60,70)]\n",
    "\n",
    "stims2 = [range(49,56),range(72,80)]\n",
    "stims3 = [range(57,65),range(81,89)]\n",
    "\n",
    "a = add_regressors(length,stims1, 7)\n",
    "b =  add_regressors(length,stims2, 7)\n",
    "c =  add_regressors(length,stims3, 7)"
   ]
  },
  {
   "cell_type": "code",
   "execution_count": 94,
   "metadata": {},
   "outputs": [
    {
     "data": {
      "text/plain": [
       "[<matplotlib.lines.Line2D at 0x1dae5499278>]"
      ]
     },
     "execution_count": 94,
     "metadata": {},
     "output_type": "execute_result"
    },
    {
     "data": {
      "image/png": "[encoded data removed]",
      "text/plain": [
       "<Figure size 432x288 with 1 Axes>"
      ]
     },
     "metadata": {
      "needs_background": "light"
     },
     "output_type": "display_data"
    }
   ],
   "source": [
    "#plt.plot(a)\n",
    "#plt.plot(b)\n",
    "plt.plot(c)"
   ]
  },
  {
   "cell_type": "code",
   "execution_count": 79,
   "metadata": {},
   "outputs": [
    {
     "ename": "NameError",
     "evalue": "name 'neural_activity' is not defined",
     "output_type": "error",
     "traceback": [
      "\u001b[1;31m---------------------------------------------------------------------------\u001b[0m",
      "\u001b[1;31mNameError\u001b[0m                                 Traceback (most recent call last)",
      "\u001b[1;32m<ipython-input-79-7a5368001a0f>\u001b[0m in \u001b[0;36m<module>\u001b[1;34m\u001b[0m\n\u001b[0;32m      5\u001b[0m \u001b[1;33m\u001b[0m\u001b[0m\n\u001b[0;32m      6\u001b[0m \u001b[0mX\u001b[0m \u001b[1;33m=\u001b[0m \u001b[0mpd\u001b[0m\u001b[1;33m.\u001b[0m\u001b[0mDataFrame\u001b[0m\u001b[1;33m(\u001b[0m\u001b[0mregressors\u001b[0m\u001b[1;33m,\u001b[0m\u001b[0mcolumns\u001b[0m\u001b[1;33m=\u001b[0m\u001b[1;33m[\u001b[0m\u001b[1;34m'Dot'\u001b[0m\u001b[1;33m,\u001b[0m\u001b[1;34m'OKR'\u001b[0m\u001b[1;33m,\u001b[0m\u001b[1;34m'Loom'\u001b[0m\u001b[1;33m]\u001b[0m\u001b[1;33m)\u001b[0m\u001b[1;33m\u001b[0m\u001b[1;33m\u001b[0m\u001b[0m\n\u001b[1;32m----> 7\u001b[1;33m \u001b[0mY\u001b[0m \u001b[1;33m=\u001b[0m \u001b[0mneural_activity\u001b[0m\u001b[1;33m\u001b[0m\u001b[1;33m\u001b[0m\u001b[0m\n\u001b[0m\u001b[0;32m      8\u001b[0m \u001b[1;33m\u001b[0m\u001b[0m\n\u001b[0;32m      9\u001b[0m \u001b[0mregr\u001b[0m \u001b[1;33m=\u001b[0m \u001b[0mlinear_model\u001b[0m\u001b[1;33m.\u001b[0m\u001b[0mLinearRegression\u001b[0m\u001b[1;33m(\u001b[0m\u001b[1;33m)\u001b[0m\u001b[1;33m\u001b[0m\u001b[1;33m\u001b[0m\u001b[0m\n",
      "\u001b[1;31mNameError\u001b[0m: name 'neural_activity' is not defined"
     ]
    }
   ],
   "source": [
    "import pandas as pd\n",
    "from sklearn import linear_model\n",
    "\n",
    "regressors = {'Dot': [], 'OKR': [], 'Loom': []}\n",
    "\n",
    "X = pd.DataFrame(regressors,columns=['Dot','OKR','Loom'])\n",
    "Y = neural_activity\n",
    "\n",
    "regr = linear_model.LinearRegression()\n",
    "regr.fit(X, Y)\n",
    "\n",
    "print('Intercept', regr.intercept_)\n",
    "print('Coefficient', regr.coef_)\n"
   ]
  },
  {
   "cell_type": "code",
   "execution_count": 98,
   "metadata": {},
   "outputs": [
    {
     "name": "stdout",
     "output_type": "stream",
     "text": [
      "Intercept -4.163336342344337e-17\n",
      "Coefficient [-1.26923266e-16 -4.13592318e-16  1.00000000e+00]\n"
     ]
    }
   ],
   "source": [
    "import pandas as pd\n",
    "from sklearn import linear_model\n",
    "\n",
    "regressors = {'Dot': a, 'OKR': b, 'Loom': c}\n",
    "\n",
    "X = pd.DataFrame(regressors,columns=['Dot','OKR','Loom'])\n",
    "Y = c # neural activity\n",
    "\n",
    "regr = linear_model.LinearRegression()\n",
    "regr.fit(X, Y)\n",
    "\n",
    "print('Intercept', regr.intercept_)\n",
    "print('Coefficient', regr.coef_)\n"
   ]
  },
  {
   "cell_type": "code",
   "execution_count": null,
   "metadata": {},
   "outputs": [],
   "source": []
  },
  {
   "cell_type": "code",
   "execution_count": null,
   "metadata": {},
   "outputs": [],
   "source": []
  }
 ],
 "metadata": {
  "kernelspec": {
   "display_name": "Python 3",
   "language": "python",
   "name": "python3"
  },
  "language_info": {
   "codemirror_mode": {
    "name": "ipython",
    "version": 3
   },
   "file_extension": ".py",
   "mimetype": "text/x-python",
   "name": "python",
   "nbconvert_exporter": "python",
   "pygments_lexer": "ipython3",
   "version": "3.6.10"
  }
 },
 "nbformat": 4,
 "nbformat_minor": 4
}
